{
 "cells": [
  {
   "cell_type": "markdown",
   "metadata": {
    "id": "JqgX4MYtGuDF"
   },
   "source": [
    "# Fitbit Charge 6: Guide to data extraction and analysis"
   ]
  },
  {
   "cell_type": "markdown",
   "metadata": {
    "id": "HOCO7bMFIgrP"
   },
   "source": [
    "<img src=\"https://imgur.com/nR08yax.png\" width=\"300\">\n",
    "\n",
    "_A picture of the Fitbit Charge 6 that was used for this notebook_"
   ]
  },
  {
   "cell_type": "markdown",
   "metadata": {
    "id": "ofW3O4rMJKvI"
   },
   "source": [
    "The Fitbit Charge 6 is a new version of the Fitbit Charge series. We have covered the data extraction and analysis for the Fitbit Charge 4 in [this notebook](https://github.com/Stanford-Health/wearable-notebooks/blob/main/notebooks/fitbit_charge_4.ipynb), and you can extract any data that you can extract from the Fitbit Charge 4, also from the Fitbit Charge 6!\n",
    "\n",
    "What we will be covering in this notebook will be **intraday** data specifically. Here is a list of high frequency data that can be extracted from any Fitbit watch.\n",
    "\n",
    "Data | Frequency of Sampling\n",
    ":-------------------:|:----------------------:\n",
    "intraday_breath_rate | per sleep\n",
    "intraday_active_zone_minute | per minute\n",
    "intraday_activity | per minute\n",
    "heart_rate | per second\n",
    "intraday_hrv | per 5 minutes during sleep\n",
    "intraday_spo2 | per minute during sleep\n",
    "\n",
    "In this guide, we sequentially cover the following **nine** topics to extract data from the Fitbit API:\n",
    "\n",
    "\n",
    "1. **Setup**\n",
    "    - 1.1: Data receiver setup\n",
    "    - 1.2: Study participant setup\n",
    "    - 1.3: Library imports\n",
    "2. **Authentication and Authorization**\n",
    "3. **Data Extraction**\n",
    "    - Select the dates to extract data\n",
    "4. **Data Exporting**\n",
    "    - We export all of this data to CSV, Excel and JSON\n",
    "5. **Adherence**\n",
    "    - We detect when the user isn't using the device by plotting a block plot\n",
    "6. **Visualization**\n",
    "    - We create a simple plot to visualize our data.\n",
    "7. **Advanced Visualization**\n",
    "    - 7.1: Replicating a graph of heart rate over time in the app\n",
    "8. **Outlier Detection and Data Cleaning**\n",
    "    - We detect outliers in our data and filter them out.\n",
    "9. **Statistical Data Analysis**\n",
    "    - 9.1: Sleep apnea detection from SPO2 and breathing rate during sleep\n",
    "    - 9.2: Distribution of breathing rates during different stage of sleep\n",
    "\n",
    "\n",
    "*Note: Full documentation of APIs by Fitbit can be found [here](https://dev.fitbit.com/build/reference)."
   ]
  },
  {
   "cell_type": "markdown",
   "metadata": {
    "id": "wjmrdIMbMyIb"
   },
   "source": [
    "# 1. Setup\n",
    "## 1.1 Data Receiver Setup\n",
    "\n",
    "Please follow the below steps:\n",
    "\n",
    "1. Create an email address for the participant, for example `foo@email.com`.\n",
    "2. Create a Fitbit account with the email `foo@email.com` and some random password.\n",
    "3. Keep `foo@email.com` and password stored somewhere safe.\n",
    "4. Distribute the device to the participant and instruct them to follow the participant setup letter in section 1.2.\n",
    "\n",
    "To extract data from the Fitbit, you will first need to log in to the fitbit account at [https://dev.fitbit.com/login](https://dev.fitbit.com/login) by using the email and password that you registered. Click \"REGISTER AN APP\" on the menu bar, which should lead you to the application form.\n",
    "\n",
    "For redirect url where you will receive the access token, you can fill in the local host https://127.0.0.1/8080, but any redirect url should work fine. **To access intraday data without additional request forms, select OAuth 2.0 Application Type to be \"Personal\".** Other entries can be filled in without particular specifications. An example is shown below.\n",
    "\n",
    "<img src=\"https://imgur.com/ATwWvA8.png\" width=\"600\">\n",
    "\n",
    "After you have agreed to the terms of service and clicked register, you should be able to see your client id and client secrete in \"Applications I registered\":\n",
    "\n",
    "<img src=\"https://imgur.com/qnSnvud.png\" width=\"600\">\n",
    "\n",
    "Your client id and client secret will be needed to obtain the access token as described in section 2.\n",
    "\n",
    "## 1.2 Study Participant setup\n",
    "Dear participant,\n",
    "\n",
    "Please start by charging the watch and connecting it to your account. Your login credentials should be provided by the research coordinator. Please download the Fitbit app from the appstore/playstore and start using your Fitbit. Remember to sync the device every few days. Otherwise, the collected high frequency data will be converted to low frequency summary for certain data types.\n",
    "\n",
    "Best,\n",
    "\n",
    "Wearipedia\n",
    "\n",
    "## 1.3 Library imports\n",
    "\n",
    "Now that we have the Fitbit and application setup, we can start using wearipedia to extract and simulate data. We will start by importing `wearipedia` itself."
   ]
  },
  {
   "cell_type": "code",
   "execution_count": 1,
   "metadata": {
    "colab": {
     "base_uri": "https://localhost:8080/"
    },
    "id": "KmeBDcKDDW_f",
    "outputId": "67753c51-a4f4-451d-bbcb-dc344cd52860"
   },
   "outputs": [],
   "source": [
    "import wearipedia"
   ]
  },
  {
   "cell_type": "markdown",
   "metadata": {
    "id": "fExIpAE3OjbV"
   },
   "source": [
    "Next, we will import all other necessary libraries. These include `matplotlib` for graph plotting, `pandas`, `numpy`, `scipy` for data processing and statistical analysis."
   ]
  },
  {
   "cell_type": "code",
   "execution_count": 2,
   "metadata": {
    "id": "3Xon7tWfG0Jc"
   },
   "outputs": [],
   "source": [
    "import base64\n",
    "import hashlib\n",
    "import html\n",
    "import json\n",
    "import os\n",
    "import re\n",
    "import urllib.parse\n",
    "import requests\n",
    "import matplotlib.pyplot as plt\n",
    "import pandas as pd\n",
    "from sklearn.covariance import EllipticEnvelope\n",
    "import seaborn as sns\n",
    "from scipy import stats\n",
    "from scipy.ndimage import gaussian_filter\n",
    "import numpy as np"
   ]
  },
  {
   "cell_type": "markdown",
   "metadata": {
    "id": "iew5gUfjSHHc"
   },
   "source": [
    "# 2. Authentication and Authorization\n",
    "\n",
    "In this section, we will cover user authentication with `wearipedia`. You will need your client id and client secret from section 1.1."
   ]
  },
  {
   "cell_type": "code",
   "execution_count": null,
   "metadata": {
    "id": "QIuaj_F_SaSW"
   },
   "outputs": [],
   "source": [
    "#@title Insert client_id and client_secret\n",
    "\n",
    "CLIENT_ID = \"\" #@param {type:\"string\"}\n",
    "CLIENT_SECRET = \"\" #@param {type:\"string\"}\n",
    "access_token = \"\""
   ]
  },
  {
   "cell_type": "markdown",
   "metadata": {
    "id": "VBKfg77USmmx"
   },
   "source": [
    "Next, you can specify the start date and end date of the data that you would like to extract (or simulate)."
   ]
  },
  {
   "cell_type": "code",
   "execution_count": 3,
   "metadata": {
    "id": "2eNx1aBOTDFJ"
   },
   "outputs": [],
   "source": [
    "#@title Enter start date and end data for data extraction/simulation\n",
    "\n",
    "START_DATE = \"2024-12-01\" #@param {type:\"string\"}\n",
    "END_DATE = \"2024-12-10\" #@param {type:\"string\"}\n",
    "params = {\"seed\": 100, \"start_date\": START_DATE, \"end_date\": END_DATE}"
   ]
  },
  {
   "cell_type": "markdown",
   "metadata": {
    "id": "g9aT8ziSTLEA"
   },
   "source": [
    "Now, we will initialize the device object for the Fitbit Charge 6. We will also specify if we will use real data. Check the box if you would like to use synthetic data instead of real data.\n",
    "\n",
    "*If you choose to use real data*, running the cell below should prompt you to click on an url. This will redirect you to your redirect url that you have chosen when you registered for an app. Please check all boxes to access all available data. Afterwards, copy the url in the address bar and paste in the box below.\n",
    "\n",
    "<img src=\"https://imgur.com/Hh8Jbaz.png\" width=\"400\">\n",
    "\n",
    "\n"
   ]
  },
  {
   "cell_type": "code",
   "execution_count": 4,
   "metadata": {
    "id": "JY3xEIOsF3MS"
   },
   "outputs": [],
   "source": [
    "device = wearipedia.get_device(\"fitbit/fitbit_charge_6\")\n",
    "\n",
    "synthetic = True #@param {type:\"boolean\"}\n",
    "if not synthetic:\n",
    "  # If the data is not synthetic, authenticate using the access token\n",
    "  device.authenticate(access_token)"
   ]
  },
  {
   "cell_type": "markdown",
   "metadata": {
    "id": "wRQ1S6WWUzK_"
   },
   "source": [
    "# 3. Data Extraction\n",
    "\n",
    "Now we are ready to extract data from the Fitbit device. To extract data, simply call the `get_data` function with the data type you would like to extract. The types of intraday data available are `\"intraday_breath_rate\"`, `\"intraday_active_zone_minute\"`, `\"intraday_activity\"`, `\"heart_rate\"`, `\"intraday_hrv\"` and `\"intraday_spo2\"`.\n",
    "\n",
    "Since intraday data is high frequency data, there is a lot of data to be extracted/generated. It should take a while for the data to be retrieved.\n",
    "\n",
    "Note also that the Fitbit API has a limit of 150 requests per user per hour, and each day of intraday data requires one API request. It might be prudent to export the data soon after it's fetched. Note that this also means you can at one time export at most 150 days of data. If the API is returning a 429 code, this means that you've run out of requests for the hour."
   ]
  },
  {
   "cell_type": "code",
   "execution_count": 5,
   "metadata": {
    "id": "YDkjW7BJGLyQ"
   },
   "outputs": [],
   "source": [
    "br = device.get_data(\"intraday_breath_rate\", params)\n",
    "azm = device.get_data(\"intraday_active_zone_minute\", params)\n",
    "activity = device.get_data(\"intraday_activity\", params)\n",
    "hr = device.get_data(\"intraday_heart_rate\", params)\n",
    "hrv = device.get_data(\"intraday_hrv\", params)\n",
    "spo2 = device.get_data(\"intraday_spo2\", params)"
   ]
  },
  {
   "cell_type": "markdown",
   "metadata": {
    "id": "O2Q47VdvXDIA"
   },
   "source": [
    "<!-- Let's take a look at the data that is extracted! As an example, the active zone minute (azm) has the following format. Other data types also follow a similar dictionary format. -->"
   ]
  },
  {
   "cell_type": "code",
   "execution_count": null,
   "metadata": {
    "colab": {
     "base_uri": "https://localhost:8080/"
    },
    "id": "PC_DBqw8GOgA",
    "outputId": "fbbb51a2-70fc-4530-83ff-3ae300110932"
   },
   "outputs": [],
   "source": [
    "azm"
   ]
  },
  {
   "cell_type": "markdown",
   "metadata": {
    "id": "_Z5B8M5w50Aw"
   },
   "source": [
    "At first glance, we can see that this dictionary contains some information about cardio active zone minutes, active zone minutes, and their corresponding recorded time during the day. Each minute, the fitbit determines if the user is in fat burn, cardio, or peak heart rate zone, and convert it into \"active zone minutes\". activeZoneMinutes is simply a total count of active zone minutes earned. For more information, you can refer to the fitbit web API [active zone minute endpoint description](https://dev.fitbit.com/build/reference/web-api/intraday/get-azm-intraday-by-date/).\n",
    "\n",
    "Although the data looks a bit messy, it is important to understand the structure of the extracted data so that we can reorganize it into a format we want (we will demonstrate organizing the data into dataframes in upcoming sections)."
   ]
  },
  {
   "cell_type": "code",
   "execution_count": null,
   "metadata": {
    "colab": {
     "base_uri": "https://localhost:8080/"
    },
    "id": "Cl63vZV352bm",
    "outputId": "df2d7cfa-e5e7-4585-b0ba-6045fc91b021"
   },
   "outputs": [],
   "source": [
    "print(f\"Number of days with azm recorded: {len(azm)}\")"
   ]
  },
  {
   "cell_type": "code",
   "execution_count": null,
   "metadata": {
    "colab": {
     "base_uri": "https://localhost:8080/"
    },
    "id": "ts4iCSAN8Imi",
    "outputId": "38f74a49-0d68-47ef-d6c8-ae37c8d31b87"
   },
   "outputs": [],
   "source": [
    "# For the i-th day, the dictionary containing the AZM data can be access via azm[i]['activities-active-zone-minutes-intraday'][0]\n",
    "# Let's look at the data for the first day!\n",
    "\n",
    "azm[0]['activities-active-zone-minutes-intraday'][0]"
   ]
  },
  {
   "cell_type": "markdown",
   "metadata": {
    "id": "fB__dYEp_48E"
   },
   "source": [
    "The above dictionary has two keys -- `'dateTime'` and `'minutes'`. `'dateTime'` contains the date of the AZM data, and `'minutes'` is a list of dictionaries, each containing the AZM information and the minute during the daya at which it was recorded."
   ]
  },
  {
   "cell_type": "markdown",
   "metadata": {
    "id": "OcClr8tMXHz4"
   },
   "source": [
    "# 4. Data Exporting\n",
    "\n",
    "In this section, we export all of this data to JSON, which with popular scientific computing software (R, Matlab). We export each datatype separately and also export a complete version that includes all simultaneously."
   ]
  },
  {
   "cell_type": "code",
   "execution_count": 6,
   "metadata": {
    "cellView": "form",
    "id": "_8EsdRzSXCvg",
    "lines_to_next_cell": 2
   },
   "outputs": [],
   "source": [
    "import json\n",
    "\n",
    "#@title Select which format to export data\n",
    "\n",
    "# set which format you prefer to export\n",
    "use_JSON = False #@param {type:\"boolean\"}\n",
    "use_CSV = True #@param {type:\"boolean\"}\n",
    "use_Excel = True #@param {type:\"boolean\"}\n",
    "\n",
    "if use_JSON:\n",
    "\n",
    "  json.dump(br, open(\"br.json\", \"w\"))\n",
    "  json.dump(azm, open(\"azm.json\", \"w\"))\n",
    "  json.dump(activity, open(\"activity.json\", \"w\"))\n",
    "  json.dump(hr, open(\"hr.json\", \"w\"))\n",
    "  json.dump(hrv, open(\"hrv.json\", \"w\"))\n",
    "  json.dump(spo2, open(\"spo2.json\", \"w\"))\n",
    "\n",
    "  complete = {\n",
    "      \"br\": br,\n",
    "      \"azm\": azm,\n",
    "      \"activity\": activity,\n",
    "      \"hr\": hr,\n",
    "      \"hrv\": hrv,\n",
    "      \"spo2\": spo2,\n",
    "\n",
    "  }\n",
    "\n",
    "  json.dump(complete, open(\"complete.json\", \"w\"))\n",
    "\n",
    "if use_CSV:\n",
    "  pd.DataFrame(br).to_csv(\"br.csv\", index=False)\n",
    "  pd.DataFrame(azm).to_csv(\"azm.csv\", index=False)\n",
    "  pd.DataFrame(activity).to_csv(\"activity.csv\", index=False)\n",
    "  pd.DataFrame(hr).to_csv(\"hr.csv\", index=False)\n",
    "  pd.DataFrame(hrv).to_csv(\"hrv.csv\", index=False)\n",
    "  pd.DataFrame(spo2).to_csv(\"spo2.csv\", index=False)\n",
    "\n",
    "\n",
    "if use_Excel:\n",
    "  pd.DataFrame(br).to_excel(\"br.xlsx\", index=False)\n",
    "  pd.DataFrame(azm).to_excel(\"azm.xlsx\", index=False)\n",
    "  pd.DataFrame(activity).to_excel(\"activity.xlsx\", index=False)\n",
    "  pd.DataFrame(hr).to_excel(\"hr.xlsx\", index=False)\n",
    "  pd.DataFrame(hrv).to_excel(\"hrv.xlsx\", index=False)\n",
    "  pd.DataFrame(spo2).to_excel(\"spo2.xlsx\", index=False)"
   ]
  },
  {
   "cell_type": "markdown",
   "metadata": {
    "id": "0JtuU63rxRZX"
   },
   "source": [
    "# 5. Data Adherence\n",
    "\n",
    "In this section, we will simulate non-adherence over long periods of time. We will demonstrate this with the heart rate data. First, we will have to extract the time and corresponding heart rate value from our raw json format."
   ]
  },
  {
   "cell_type": "code",
   "execution_count": null,
   "metadata": {
    "id": "WvzvbEn0yLjF"
   },
   "outputs": [],
   "source": [
    "from datetime import datetime\n",
    "\n",
    "results = []\n",
    "\n",
    "for record in hr:\n",
    "    date_str = record[\"activities-heart\"][0][\"dateTime\"]\n",
    "    dataset = record[\"activities-heart-intraday\"][\"dataset\"]\n",
    "\n",
    "    date_obj = datetime.strptime(date_str, \"%Y-%m-%d\").date()\n",
    "\n",
    "    for entry in dataset:\n",
    "        time_str = entry[\"time\"]\n",
    "        heart_rate_value = entry[\"value\"]\n",
    "\n",
    "        time_obj = datetime.strptime(time_str, \"%H:%M:%S\").time()\n",
    "\n",
    "        date_time = datetime.combine(date_obj, time_obj)\n",
    "\n",
    "        results.append([date_time, heart_rate_value])\n",
    "df = pd.DataFrame(results, columns=[\"datetime\", \"heart_rate\"])\n",
    "df['datetime'] = pd.to_datetime(df['datetime'])"
   ]
  },
  {
   "cell_type": "code",
   "execution_count": null,
   "metadata": {
    "colab": {
     "base_uri": "https://localhost:8080/",
     "height": 424
    },
    "id": "hWUHqR0b2GyV",
    "outputId": "d3f4ace3-c4f6-4b7c-fb0b-0c149b28e2de"
   },
   "outputs": [],
   "source": [
    "print(df)"
   ]
  },
  {
   "cell_type": "markdown",
   "metadata": {
    "id": "c0FgPHlH_2wJ"
   },
   "source": [
    "Since our simulated data has data entries for all timesteps, in order to simulate non-adherence, we will randomly select a portion of data to be None. We will first select 30% of the dates among all dates in the dataframe on which non-adherence occurs."
   ]
  },
  {
   "cell_type": "code",
   "execution_count": null,
   "metadata": {
    "id": "qx7VGb112sZ9"
   },
   "outputs": [],
   "source": [
    "seed_value = 42\n",
    "np.random.seed(seed_value)\n",
    "\n",
    "unique_dates = df['datetime'].dt.date.unique()\n",
    "selected_dates = np.random.choice(unique_dates, size=int(len(unique_dates) * 0.3), replace=False)"
   ]
  },
  {
   "cell_type": "markdown",
   "metadata": {
    "id": "c1sK0Vjx6s1_"
   },
   "source": [
    "In order for the nonadherence to be realistic, we will select random intervals that are hours long where there is no data recorded -- instead of random entries -- to be `None` (after all, the user won't take of the watch for one second and put on the watch another second!)."
   ]
  },
  {
   "cell_type": "code",
   "execution_count": null,
   "metadata": {
    "id": "KFeosZau7ueu"
   },
   "outputs": [],
   "source": [
    "import random\n",
    "\n",
    "random.seed(seed_value)\n",
    "\n",
    "def create_random_intervals(date):\n",
    "    intervals = []\n",
    "    num_intervals = random.choice([1, 2])\n",
    "    for _ in range(num_intervals):\n",
    "        start_hour = random.randint(0, 23)\n",
    "        start_minute = random.randint(0, 59)\n",
    "        start_second = random.randint(0, 59)\n",
    "        start_time = pd.Timestamp(date) + pd.Timedelta(hours=start_hour, minutes=start_minute, seconds=start_second)\n",
    "\n",
    "        duration_hours = random.randint(0, 5)\n",
    "        duration_minutes = random.randint(0, 59)\n",
    "        duration_seconds = random.randint(0, 59)\n",
    "        end_time = start_time + pd.Timedelta(hours=duration_hours, minutes=duration_minutes, seconds=duration_seconds)\n",
    "\n",
    "        intervals.append((start_time, end_time))\n",
    "    return intervals"
   ]
  },
  {
   "cell_type": "code",
   "execution_count": null,
   "metadata": {
    "id": "6T5P1NsL70Nu"
   },
   "outputs": [],
   "source": [
    "intervals_to_nullify = []\n",
    "for date in selected_dates:\n",
    "    intervals_to_nullify.extend(create_random_intervals(date))\n",
    "\n",
    "intervals_to_nullify = [(pd.Timestamp(start), pd.Timestamp(end)) for start, end in intervals_to_nullify]"
   ]
  },
  {
   "cell_type": "markdown",
   "metadata": {
    "id": "qJsBPaPv76RO"
   },
   "source": [
    "Since in the real data, the fitbit doesn't record when the user is not using the watch, in our synthetic we will delete those rows which have value `None`."
   ]
  },
  {
   "cell_type": "code",
   "execution_count": null,
   "metadata": {
    "id": "cijbizZaHwgu"
   },
   "outputs": [],
   "source": [
    "non_adherence_df = df.copy()\n",
    "for start_time, end_time in intervals_to_nullify:\n",
    "    non_adherence_df = non_adherence_df[(non_adherence_df['datetime'] < start_time) | (non_adherence_df['datetime'] > end_time)]"
   ]
  },
  {
   "cell_type": "code",
   "execution_count": null,
   "metadata": {
    "id": "v6IQSUuVt7x1"
   },
   "outputs": [],
   "source": [
    "date_range = pd.date_range(start=START_DATE, end=END_DATE + \" 23:59:59\", freq='S')\n",
    "\n",
    "# Reindex non_adherence_df using the complete date range\n",
    "non_adherence_df = non_adherence_df.set_index('datetime').reindex(date_range).reset_index()\n",
    "\n",
    "# Replace NaN values in heart_rate with None\n",
    "non_adherence_df['heart_rate'] = non_adherence_df['heart_rate'].apply(lambda x: None if pd.isna(x) else x)\n",
    "\n",
    "# Reset column names if needed\n",
    "non_adherence_df.columns = ['datetime', 'heart_rate']"
   ]
  },
  {
   "cell_type": "markdown",
   "metadata": {
    "id": "W1vS6lKmGtMT"
   },
   "source": [
    "Next, we can specify the start date and end date to visualize. We will also plot a block plot to visualize the dates and times of when the user had used the watch.\n",
    "\n",
    "To plot the block plot, we plot a value of 1 if a valid heart rate value is recorded. Otherwise, we plot a value of 0."
   ]
  },
  {
   "cell_type": "code",
   "execution_count": null,
   "metadata": {
    "colab": {
     "base_uri": "https://localhost:8080/",
     "height": 573
    },
    "id": "-Wu7ou6NHKmK",
    "outputId": "96d7c008-d518-4c4b-d4fe-429a09297aca"
   },
   "outputs": [],
   "source": [
    "VISUAL_START_DATE = \"2024-12-01\" #@param {type:\"string\"}\n",
    "VISUAL_END_DATE = \"2024-12-30\" #@param {type:\"string\"}\n",
    "\n",
    "visual_start_date = pd.to_datetime(VISUAL_START_DATE)\n",
    "visual_end_date = pd.to_datetime(VISUAL_END_DATE)\n",
    "\n",
    "selected_rows = non_adherence_df[(non_adherence_df['datetime'] >= visual_start_date) &\n",
    "                                 (non_adherence_df['datetime'] < visual_end_date)]\n",
    "\n",
    "# Replace heart rate: 1 if not NaN, otherwise 0 using .loc and .copy()\n",
    "selected_rows_copy = selected_rows.copy()\n",
    "selected_rows_copy['heart_rate'] = selected_rows_copy['heart_rate'].apply(lambda x: 1 if pd.notna(x) else 0)\n",
    "\n",
    "# Plot a block plot\n",
    "plt.figure(figsize=(12, 6))\n",
    "plt.plot(selected_rows_copy['datetime'], selected_rows_copy['heart_rate'], drawstyle='steps-post', color='blue')\n",
    "plt.title('Heart Rate Non-Adherence Block Plot')\n",
    "plt.xlabel('Datetime')\n",
    "plt.ylabel('Heart Rate (1: Present, 0: NaN)')\n",
    "plt.grid(True)\n",
    "plt.show()"
   ]
  },
  {
   "cell_type": "markdown",
   "metadata": {
    "id": "jpkiE-K2_Zih"
   },
   "source": [
    "# 6. Visualization\n",
    "\n",
    "In this section, we will be visualizing our three kinds of data in a simple, customizable plot! This plot is intended to provide a starter example for plotting, whereas later examples emphasize deep control and aesthetics.\n",
    "\n",
    "Similar to the previous section, we would first have to reorganize our raw JSON format data."
   ]
  },
  {
   "cell_type": "code",
   "execution_count": null,
   "metadata": {
    "id": "t4ZMA92v99UN"
   },
   "outputs": [],
   "source": [
    "# Reorganize heart rate data\n",
    "hr_df = df.copy()\n",
    "\n",
    "# Reorganize breath rate data\n",
    "extracted_data = []\n",
    "for entry in br:\n",
    "    for br_entry in entry['br']:\n",
    "        row = {\n",
    "            'datetime': br_entry['dateTime'],\n",
    "            'deepSleepSummary': br_entry['value']['deepSleepSummary']['breathingRate'],\n",
    "            'remSleepSummary': br_entry['value']['remSleepSummary']['breathingRate'],\n",
    "            'fullSleepSummary': br_entry['value']['fullSleepSummary']['breathingRate'],\n",
    "            'lightSleepSummary': br_entry['value']['lightSleepSummary']['breathingRate']\n",
    "        }\n",
    "        extracted_data.append(row)\n",
    "\n",
    "br_df = pd.DataFrame(extracted_data)\n",
    "br_df['datetime'] = pd.to_datetime(br_df['datetime'])\n",
    "\n",
    "# Reorganize hrv data\n",
    "rmssd_data = []\n",
    "for entry in hrv:\n",
    "    for hrv_entry in entry['hrv']:\n",
    "        for minute_entry in hrv_entry['minutes']:\n",
    "            rmssd_data.append({'minute': minute_entry['minute'], 'rmssd': minute_entry['value']['rmssd']})\n",
    "\n",
    "rmssd_df = pd.DataFrame(rmssd_data)\n",
    "rmssd_df['minute'] = pd.to_datetime(rmssd_df['minute'])\n",
    "\n",
    "lf_hf_data = []\n",
    "for entry in hrv:\n",
    "    for hrv_entry in entry['hrv']:\n",
    "        for minute_entry in hrv_entry['minutes']:\n",
    "            lf_hf_data.append({'minute': minute_entry['minute'], 'lf': minute_entry['value']['lf'], 'hf': minute_entry['value']['hf']})\n",
    "\n",
    "lf_hf_df = pd.DataFrame(lf_hf_data)\n",
    "lf_hf_df['minute'] = pd.to_datetime(lf_hf_df['minute'])\n",
    "\n",
    "# Reorganize spo2 data\n",
    "minute_value_data = []\n",
    "for entry in spo2:\n",
    "    for minute_entry in entry['minutes']:\n",
    "        minute_value_data.append({'minute': minute_entry['minute'], 'value': minute_entry['value']})\n",
    "\n",
    "spo2_df = pd.DataFrame(minute_value_data)\n",
    "spo2_df['minute'] = pd.to_datetime(spo2_df['minute'])"
   ]
  },
  {
   "cell_type": "markdown",
   "metadata": {
    "id": "CfnB5qggJXy7"
   },
   "source": [
    "We will plot graphs to visualize the following data:\n",
    "- Heart rate (per second)\n",
    "- Heart rate variability (hrv) in terms of Root Mean Square of Successive Differences (RMSSD)\n",
    "- Heart rate variability (hrv) in terms of the power in interbeat interval fluctuations within the low frequency band and high frequency band ([see description from Fitbit web api](https://dev.fitbit.com/build/reference/web-api/intraday/get-hrv-intraday-by-date/))\n",
    "- SPO2 (per minute during sleep)\n",
    "- Average breathing rate during each sleep stage (per sleep).\n",
    "\n",
    "Here, you can specify the visualization start date and end date."
   ]
  },
  {
   "cell_type": "code",
   "execution_count": null,
   "metadata": {
    "id": "l3OMe3_8AU9Q"
   },
   "outputs": [],
   "source": [
    "VISUALIZATION_START_DATE = \"2024-12-01\" #@param {type:\"string\"}\n",
    "VISUALIZATION_END_DATE = \"2024-12-08\" #@param {type:\"string\"}\n",
    "\n",
    "visualization_start_date = pd.to_datetime(VISUALIZATION_START_DATE)\n",
    "visualization_end_date = pd.to_datetime(VISUALIZATION_END_DATE)"
   ]
  },
  {
   "cell_type": "code",
   "execution_count": null,
   "metadata": {
    "id": "6QclYBE4AVk7"
   },
   "outputs": [],
   "source": [
    "selected_hr_df = hr_df[(hr_df['datetime'] >= visualization_start_date) & (hr_df['datetime'] < visualization_end_date)]\n",
    "selected_br_df = br_df[(br_df['datetime'] >= visualization_start_date) & (br_df['datetime'] < visualization_end_date)]\n",
    "selected_rmssd_df = rmssd_df[(rmssd_df['minute'] >= visualization_start_date) & (rmssd_df['minute'] < visualization_end_date)]\n",
    "selected_lf_hf_df = lf_hf_df[(lf_hf_df['minute'] >= visualization_start_date) & (lf_hf_df['minute'] < visualization_end_date)]\n",
    "selected_spo2_df = spo2_df[(spo2_df['minute'] >= visualization_start_date) & (spo2_df['minute'] < visualization_end_date)]"
   ]
  },
  {
   "cell_type": "code",
   "execution_count": null,
   "metadata": {
    "cellView": "form",
    "colab": {
     "base_uri": "https://localhost:8080/",
     "height": 573
    },
    "id": "yPPBIC8HKpwo",
    "outputId": "19db5f64-e718-42a0-afd6-9a33cb2ac912"
   },
   "outputs": [],
   "source": [
    "#@title Select the data to plot\n",
    "\n",
    "feature = \"hrv (lf and hf)\" #@param [\"heart rate\", \"breathing rate\", \"hrv (rmssd)\", \"hrv (lf and hf)\", \"spo2\"]\n",
    "\n",
    "if feature == \"heart rate\":\n",
    "  plt.figure(figsize=(15, 6))\n",
    "  plt.grid(True)\n",
    "  plt.scatter(selected_hr_df['datetime'], selected_hr_df['heart_rate'], color='red', s=0.1, alpha=0.7)\n",
    "  plt.title('Heart Rate Over Time')\n",
    "  plt.xlabel('Datetime')\n",
    "  plt.ylabel('Heart Rate')\n",
    "  plt.ylim(0, 225)\n",
    "\n",
    "  plt.show()\n",
    "elif feature == \"breathing rate\":\n",
    "  plt.figure(figsize=(15, 6))\n",
    "\n",
    "  for column in selected_br_df.columns[1:]:\n",
    "      plt.plot(selected_br_df['datetime'], selected_br_df[column], label=column)\n",
    "\n",
    "  plt.title('Breath rate on selected dates')\n",
    "  plt.xlabel('Date')\n",
    "  plt.ylabel('Breathing rate')\n",
    "  plt.xticks(rotation=45)\n",
    "  plt.ylim(0, 25)\n",
    "  plt.legend()\n",
    "  plt.grid(True)\n",
    "  plt.tight_layout()\n",
    "  plt.show()\n",
    "elif feature == \"hrv (rmssd)\":\n",
    "  plt.figure(figsize=(15, 6))\n",
    "  plt.scatter(selected_rmssd_df['minute'], selected_rmssd_df['rmssd'], color='red', s=0.5)\n",
    "  plt.title('HRV (RMSSD) Over Time')\n",
    "  plt.xlabel('Datetime')\n",
    "  plt.ylabel('RMSSD')\n",
    "  plt.ylim(0, 100)\n",
    "  plt.grid(True)\n",
    "  plt.show()\n",
    "elif feature == \"hrv (lf and hf)\":\n",
    "  plt.figure(figsize=(15, 6))\n",
    "  for band in [\"lf\", \"hf\"]:\n",
    "    if band == \"hf\":\n",
    "      color = \"red\"\n",
    "    else:\n",
    "      color = \"green\"\n",
    "    plt.scatter(selected_lf_hf_df['minute'], selected_lf_hf_df[band], color=color, s=0.5, label=band)\n",
    "\n",
    "  plt.legend()\n",
    "  plt.title('HRV (lf and hf) Over Time')\n",
    "  plt.xlabel('Datetime')\n",
    "  plt.ylabel('Power (ms^2)')\n",
    "  plt.ylim(0, 1200)\n",
    "  plt.grid(True)\n",
    "  plt.show()\n",
    "else:\n",
    "  plt.figure(figsize=(15, 6))\n",
    "  plt.scatter(selected_spo2_df['minute'], selected_spo2_df['value'], color='blue', s=0.1)\n",
    "  plt.title('SPO2 Over Time')\n",
    "  plt.xlabel('Datetime')\n",
    "  plt.ylabel('SPO2 (%)')\n",
    "  plt.ylim(90, 100)\n",
    "  plt.grid(True)\n",
    "  plt.show()\n",
    "\n"
   ]
  },
  {
   "cell_type": "markdown",
   "metadata": {
    "id": "QXGeE9HDSW38"
   },
   "source": [
    "# 7. Advanced Visualization\n",
    "\n",
    "In this section, we will try more advanced data visualization, by replicating some plots from the fitbit. This will more manual adjustments for positioning texts, customizing colors, etc.\n",
    "\n",
    "## 7.1 Heart rate in a day\n",
    "\n",
    "Here we are going to try replicating this plot of heart rate versus time in the day from the fitbit app. The main feature is that the plot indicates the heart rate zone the time intervals during the day corresponds to. It provides a visual representation of how heart rate varies throughout the day. This can reveal patterns such as spikes during exercise, dips during sleep, or variations in response to stress or activity.\n",
    "\n",
    "<img src=\"https://imgur.com/Goz1UD2.png\" width=\"300\">"
   ]
  },
  {
   "cell_type": "code",
   "execution_count": null,
   "metadata": {
    "id": "7_tumXHMKXND"
   },
   "outputs": [],
   "source": [
    "from datetime import timedelta\n",
    "\n",
    "DAY = \"2024-12-03\"\n",
    "vis_day = pd.to_datetime(DAY)\n",
    "vis_end_day = vis_day + timedelta(days = 1)\n",
    "DAY_hr_df = hr_df[(hr_df['datetime'] >= vis_day) & (hr_df['datetime'] < vis_end_day)]\n",
    "DAY_hr_df = DAY_hr_df.reset_index(drop=True)\n",
    "\n",
    "DAY_hr_df['datetime'] = pd.to_datetime(DAY_hr_df['datetime'])\n",
    "\n",
    "specific_times = ['00:00:00', '06:00:00', '12:00:00', '18:00:00', '23:59:00']\n",
    "\n",
    "time_stamps = [pd.to_datetime(f\"{DAY} {time}\") for time in specific_times]"
   ]
  },
  {
   "cell_type": "code",
   "execution_count": null,
   "metadata": {
    "colab": {
     "base_uri": "https://localhost:8080/",
     "height": 564
    },
    "id": "T5SH5nYZLWAg",
    "outputId": "d0b00839-16c8-44d6-a124-f1c00d3d0be3"
   },
   "outputs": [],
   "source": [
    "with plt.style.context('dark_background'):\n",
    "    # Creating the plot\n",
    "    fig, ax = plt.subplots()\n",
    "    fig.set_size_inches(3, 5.5)\n",
    "    plt.plot(DAY_hr_df['datetime'], DAY_hr_df['heart_rate'], color='#4DC3C3', lw=0.5)\n",
    "\n",
    "    fig.patch.set_facecolor('#097194')\n",
    "    plt.gca().set_facecolor('#097194')\n",
    "\n",
    "    # Adjusting the labels\n",
    "    plt.xticks(ticks=time_stamps, labels=['12', '6', '12PM', '6', '12'])\n",
    "    plt.ylim(top=200, bottom=40)\n",
    "\n",
    "    # Removing the borders from four sides\n",
    "    plt.gca().spines['left'].set_visible(False)\n",
    "    plt.gca().spines['right'].set_visible(False)\n",
    "    plt.gca().spines['top'].set_visible(False)\n",
    "    plt.gca().spines['bottom'].set_visible(False)\n",
    "\n",
    "    # Adjust tick sizes\n",
    "    plt.tick_params(axis='x', labelsize=8)\n",
    "    plt.tick_params(axis='y', labelsize=8)\n",
    "\n",
    "    # Adding labels\n",
    "    plt.figtext(0.5, 1.0, \"Dec 30, 2024\", fontsize=14, ha='center', color='w')\n",
    "    plt.figtext(0.5, 0.96, 'Beats Per Minute', fontsize=14, ha='center', color='w', fontweight='bold')\n",
    "\n",
    "    for i in range(len(DAY_hr_df) - 1):\n",
    "        hr = DAY_hr_df.iloc[i]['heart_rate']\n",
    "        hr_next = DAY_hr_df.iloc[i + 1]['heart_rate']\n",
    "        time = DAY_hr_df.iloc[i]['datetime']\n",
    "        time_next = DAY_hr_df.iloc[i + 1]['datetime']\n",
    "\n",
    "        if 110 <= hr <= 136:\n",
    "            color = 'yellow'\n",
    "        elif 136 < hr <= 169:\n",
    "            color = 'orange'\n",
    "        elif hr > 169:\n",
    "            color = 'red'\n",
    "        else:\n",
    "            color = '#4DC3C3'\n",
    "\n",
    "        plt.plot([time, time_next], [hr, hr_next], color=color, lw=0.5)\n",
    "\n",
    "    # Adding the legend with colored squares\n",
    "    legend_labels = ['Fat Burn', 'Cardio', 'Peak']\n",
    "    legend_colors = ['yellow', 'orange', 'red']\n",
    "    y_position = 0.92\n",
    "    x_positions = [0.20, 0.45, 0.65]\n",
    "    square_size = 9\n",
    "\n",
    "    for i, (label, color) in enumerate(zip(legend_labels, legend_colors)):\n",
    "        plt.figtext(x_positions[i], y_position + 0.01, '■', fontsize=square_size, color=color, va='center')\n",
    "        plt.figtext(x_positions[i] + 0.05, y_position, label, fontsize=9, ha='left', color='w', fontweight='light')\n",
    "\n",
    "    plt.show()"
   ]
  },
  {
   "cell_type": "markdown",
   "metadata": {
    "id": "28lf9pkpT1Av"
   },
   "source": [
    "# 8. Outlier Detection and Data Cleaning\n",
    "\n",
    "In data analysis, outliers are data points that significantly differ from the rest. They might indicate measurement variability or errors. For BPM data, outliers could signal physiological anomalies, errors, or artifacts.\n",
    "Unconditional Outlier Detection, $P(\\text{BPM})$\n",
    "\n",
    "This approach examines each BPM measurement independently. It aims to identify data points that deviate substantially from the overall BPM distribution, without considering time sequence.\n",
    "### Unconditional Outlier Detection:\n",
    "\n",
    "#### Standard Deviation Method:\n",
    "\n",
    "- Assumes BPM values follow a normal distribution.\n",
    "- Identifies values beyond a certain number of standard deviations from the mean as outliers.\n",
    "- Typically uses a cutoff between 1 and 4 standard deviations.\n",
    "\n",
    "#### Interquartile Range (IQR) Method:\n",
    "- Doesn't assume normal data distribution.\n",
    "- Computes IQR between the 25th and 75th percentiles.\n",
    "- Considers data points below $\\text{Q1} - 1.5\\times\\text{IQR}$ or above $\\text{Q3} + 1.5\\times\\text{IQR}$ as outliers.\n",
    "\n",
    "### Conditional Outlier Detection, $P(\\text{BPM}_{t}\\mid\\text{BPM}_{t-1})$\n",
    "\n",
    "This method evaluates each BPM reading considering its preceding value. This is important because BPM values are correlated over time, especially in short intervals like 10 seconds.\n",
    "Methods for Conditional Outlier Detection:\n",
    "\n",
    "#### Change Detection:\n",
    "- Calculates the difference between consecutive BPM readings.\n",
    "- Identifies significant deviations from the expected fluctuation range as outliers.\n",
    "\n",
    "#### Time Series Analysis:\n",
    "- Advanced methods like ARIMA model BPM time series to predict future values.\n",
    "- Identifies outliers as readings significantly different from the model's predictions.\n",
    "\n",
    "### Assumptions and Calculations\n",
    "\n",
    "The choice of outlier detection method depends on certain assumptions. For example, the standard deviation method assumes a normal distribution of BPM values. Whether to use a conditional or unconditional method depends on the influence of preceding data on the current value.\n",
    "\n",
    "For BPM data, considering its sequential nature, conditional methods may be more insightful. They can reveal sudden physiological changes or errors manifested as abrupt BPM spikes.\n",
    "\n",
    "The mathematics behind conditional outlier detection may involve calculating BPM changes between successive readings:\n",
    "\n",
    "$\\Delta \\text{BPM}_t = \\text{BPM}_t - \\text{BPM}_{t-1}$\n",
    "\n",
    "Then, a threshold is established based on the standard deviation of these changes:\n",
    "\n",
    "$Threshold = Mean(\\Delta \\text{BPM}) \\pm k \\times StdDev(\\Delta \\text{BPM})$,\n",
    "\n",
    "where $k$ represents the number of standard deviations to consider.\n",
    "\n",
    "The idea is that while BPM can naturally vary from one reading to the next, extreme changes within a brief interval are unexpected unless due to an unusual event or error.\n",
    "\n",
    "\n",
    "Since we have high frequency heart rate data, we will use conditional outlier detection.\n",
    "\n",
    "#### Step 1: Inject some anomalies\n",
    "\n",
    "Since our synthetic data resembles a health adult, we would have to inject some anomalies to the data."
   ]
  },
  {
   "cell_type": "code",
   "execution_count": null,
   "metadata": {
    "id": "IGMU7rZcss7e",
    "lines_to_next_cell": 2
   },
   "outputs": [],
   "source": [
    "from datetime import timedelta\n",
    "\n",
    "VIS_START_DATE = \"2024-12-03\" #@param {type:\"string\"}\n",
    "vis_start_date = pd.to_datetime(VIS_START_DATE)\n",
    "vis_end_date = vis_start_date + timedelta(days = 1)\n",
    "day_hr_df = hr_df[(hr_df['datetime'] >= vis_start_date) & (hr_df['datetime'] < vis_end_date)]\n",
    "\n",
    "# Randomly select 1% of rows in day_hr_df\n",
    "sample_size = int(len(day_hr_df) * 0.00005)\n",
    "sampled_rows = day_hr_df.sample(n=sample_size)\n",
    "\n",
    "# Define the list of possible heart rate values\n",
    "heart_rate_values = [80, 82]\n",
    "\n",
    "# Assign random heart rate values to the selected rows\n",
    "sampled_rows['heart_rate'] = np.random.choice(heart_rate_values, size=sample_size)\n",
    "\n",
    "# Update the original DataFrame with the modified rows\n",
    "day_hr_df.loc[sampled_rows.index, 'heart_rate'] = sampled_rows['heart_rate']"
   ]
  },
  {
   "cell_type": "markdown",
   "metadata": {
    "id": "edMRD548sZup"
   },
   "source": [
    "#### Step 2: Calculate the Differences Between Consecutive Measurements\n",
    "\n",
    "Second, we will calculate the differences between consecutive measurements. Since we have quite a lot of data, we will demonstrate this outlier detection with just one day of data."
   ]
  },
  {
   "cell_type": "code",
   "execution_count": null,
   "metadata": {
    "id": "J6mK1EBDOijS",
    "lines_to_next_cell": 2
   },
   "outputs": [],
   "source": [
    "# Create a copy of the DataFrame\n",
    "day_hr_df_copy = day_hr_df.copy()\n",
    "\n",
    "# Add the 'hr_diff' column to the copy\n",
    "day_hr_df_copy['hr_diff'] = day_hr_df['heart_rate'].diff()\n",
    "\n",
    "# Update the original DataFrame with the modified copy\n",
    "day_hr_df = day_hr_df_copy"
   ]
  },
  {
   "cell_type": "code",
   "execution_count": null,
   "metadata": {
    "colab": {
     "base_uri": "https://localhost:8080/",
     "height": 424
    },
    "id": "IWvO-RZlqOPw",
    "outputId": "06b16029-1445-468b-a279-31b59c684fd3"
   },
   "outputs": [],
   "source": [
    "print(day_hr_df)"
   ]
  },
  {
   "cell_type": "markdown",
   "metadata": {
    "id": "aA_ZA_0OoTN9"
   },
   "source": [
    "#### Step 2: Establish a Statistical Threshold\n",
    "\n",
    "The threshold is calculated by multiplying the standard deviation of the BPM differences by a factor. This factor is chosen to capture the most extreme variations, which are less probable to occur naturally."
   ]
  },
  {
   "cell_type": "code",
   "execution_count": null,
   "metadata": {
    "colab": {
     "base_uri": "https://localhost:8080/"
    },
    "id": "4NjC3jwKnr6s",
    "outputId": "c7c0c6b1-d653-4c0a-8ad0-041737452bb4"
   },
   "outputs": [],
   "source": [
    "# Calculate the standard deviation and mean of the differences\n",
    "mean_diff = day_hr_df[\"hr_diff\"].mean()\n",
    "std_diff = day_hr_df[\"hr_diff\"].std()\n",
    "\n",
    "# Set a threshold for detecting outliers, typically between 1 and 4 standard deviations\n",
    "threshold = 4 * std_diff\n",
    "threshold"
   ]
  },
  {
   "cell_type": "markdown",
   "metadata": {
    "id": "tqp4pQZnoeQn"
   },
   "source": [
    "#### Step 3: Identify Conditional Outliers\n",
    "\n",
    "This step filters the data to find instances where the absolute value of the HRV difference exceeds our threshold, suggesting an unusual and abrupt change in BPM."
   ]
  },
  {
   "cell_type": "code",
   "execution_count": null,
   "metadata": {
    "id": "Tb6IEcbXojJg"
   },
   "outputs": [],
   "source": [
    "# Identify where the difference exceeds the threshold\n",
    "conditional_outliers = day_hr_df[abs(day_hr_df['hr_diff']) > threshold]"
   ]
  },
  {
   "cell_type": "markdown",
   "metadata": {
    "id": "4G1X5gxvorK1"
   },
   "source": [
    "#### Step 4: Visualize Outliers\n",
    "\n",
    "Visualization is crucial as it provides an immediate sense of where outliers occur in the dataset, offering insights into their potential causes and implications."
   ]
  },
  {
   "cell_type": "code",
   "execution_count": null,
   "metadata": {
    "colab": {
     "base_uri": "https://localhost:8080/",
     "height": 573
    },
    "id": "igmiiB0Zoqvy",
    "outputId": "5c05c970-46f4-4b39-86c5-810cb43a1a47"
   },
   "outputs": [],
   "source": [
    "# Plot HRV data with conditional outliers highlighted\n",
    "plt.figure(figsize=(10, 6))\n",
    "plt.plot(day_hr_df['heart_rate'], label='heart rate data', alpha=0.7)\n",
    "plt.scatter(conditional_outliers.index, conditional_outliers['heart_rate'], color='r', label='Conditional Outliers')\n",
    "plt.legend()\n",
    "plt.title('Heart Rate Data with Conditional Outliers Highlighted')\n",
    "plt.xlabel('Time Index')\n",
    "plt.ylabel('Heart Rate')\n",
    "plt.show()"
   ]
  },
  {
   "cell_type": "markdown",
   "metadata": {
    "id": "p1rLIIeTvi6J"
   },
   "source": [
    "# 9. Statistical Data Analysis\n",
    "\n",
    "Data isn't much without some analysis, so we're going to do some in this section. Please do not use the analyses below as evidence supporting any scientific claims. These analyses are purely intended for educational purposes.\n",
    "\n",
    "## 9.1 Breathing rate and SPO2 during sleep\n",
    "Suppose we have a mini research question:\n",
    "\n",
    "**Mini Research Question**: Can sleep apnea be identified by the joint distribution of blood oxygen saturation and breathing rate?\n",
    "\n",
    "**Significance**: Sleep apnea is characterized as periods of low blood oxygen saturation accompanied by fluctuations in breathing rate. Therefore, analyzing the relationship between these two variables during sleep can provide valuable insights into the presence and severity of sleep apnea episodes.\n",
    "\n",
    "\n",
    "#### Step 1: Data Loading and Preparation\n",
    "Our first step would be extract the average SPO2 values that corresponding to the breathing rate during sleep. We will also merge the two dataframes."
   ]
  },
  {
   "cell_type": "code",
   "execution_count": null,
   "metadata": {
    "id": "le_DDRbp5Ce4"
   },
   "outputs": [],
   "source": [
    "spo2_df['date'] = spo2_df['minute'].dt.date\n",
    "\n",
    "day_spo2_df = spo2_df.groupby('date')['value'].mean().reset_index()\n",
    "\n",
    "day_spo2_df.columns = ['date', 'mean_spo2']"
   ]
  },
  {
   "cell_type": "code",
   "execution_count": null,
   "metadata": {
    "id": "eF2AAJgd5kSJ"
   },
   "outputs": [],
   "source": [
    "day_br_df = br_df[['datetime', 'fullSleepSummary']].copy()\n",
    "\n",
    "day_br_df.columns = ['date', 'mean_breath_rate']"
   ]
  },
  {
   "cell_type": "code",
   "execution_count": null,
   "metadata": {
    "id": "m5LW6Gf354Ew"
   },
   "outputs": [],
   "source": [
    "day_spo2_df['date'] = pd.to_datetime(day_spo2_df['date'])\n",
    "day_br_df['date'] = pd.to_datetime(day_br_df['date'])\n",
    "\n",
    "# Merge the two DataFrames on the 'date' column\n",
    "merged_df = pd.merge(day_spo2_df, day_br_df, on='date')"
   ]
  },
  {
   "cell_type": "markdown",
   "metadata": {
    "id": "EikZYjtJWbyp"
   },
   "source": [
    "#### Step 2: Inject sleep apnea data\n",
    "\n",
    "Since our data simulates a healthy person, let us modify a proportion of data and reflect the data of a patient with sleep apnea."
   ]
  },
  {
   "cell_type": "code",
   "execution_count": null,
   "metadata": {
    "id": "08TvgF5uWn74"
   },
   "outputs": [],
   "source": [
    "# Simulate sleep apnea by modifying certain rows\n",
    "num_apnea_days = int(0.15 * len(merged_df))  # Simulate apnea on 15% of the days\n",
    "apnea_indices = np.random.choice(merged_df.index, num_apnea_days, replace=False)\n",
    "\n",
    "for i in apnea_indices:\n",
    "    merged_df.at[i, 'mean_spo2'] = random.uniform(91, 95)  # Lower SpO2 to simulate apnea\n",
    "    merged_df.at[i, 'mean_breath_rate'] = random.uniform(12, 14)  # Lower breath rate to simulate apnea"
   ]
  },
  {
   "cell_type": "markdown",
   "metadata": {
    "id": "oAABcyicWyNn"
   },
   "source": [
    "#### Step 3: Visualize the data\n"
   ]
  },
  {
   "cell_type": "code",
   "execution_count": null,
   "metadata": {
    "colab": {
     "base_uri": "https://localhost:8080/",
     "height": 704
    },
    "id": "2CG8WIPEUG4k",
    "outputId": "e8699d1b-48a9-4f1d-d009-99114618bb53"
   },
   "outputs": [],
   "source": [
    "import seaborn as sns\n",
    "sns.set(style=\"whitegrid\")\n",
    "\n",
    "fig, ax1 = plt.subplots(figsize=(14, 7))\n",
    "\n",
    "# Add a y-axis for the average SpO2 data\n",
    "color = 'tab:red'\n",
    "ax1.set_xlabel('Date')\n",
    "ax1.set_ylabel('Average SpO2 (%)', color=color)\n",
    "ax1.plot(merged_df['date'], merged_df['mean_spo2'], color=color, marker='o', label='Average SpO2')\n",
    "ax1.tick_params(axis='y', labelcolor=color)\n",
    "ax1.axhline(y=95, color=color, linestyle='-', linewidth=0.8, label='SpO2 Threshold (95%)')\n",
    "\n",
    "# Add a y-axis for the breathing rate data\n",
    "ax2 = ax1.twinx()\n",
    "color = 'tab:blue'\n",
    "ax2.set_ylabel('Average Breathing Rate (bpm)', color=color)\n",
    "ax2.plot(merged_df['date'], merged_df['mean_breath_rate'], color=color, marker='o', label='Average Breathing Rate')\n",
    "ax2.tick_params(axis='y', labelcolor=color)\n",
    "ax2.axhline(y=14, color=color, linestyle='-', linewidth=0.8, label='Breathing Rate Threshold (14 bpm)')\n",
    "\n",
    "\n",
    "fig.tight_layout()\n",
    "fig.suptitle('Average SpO2 and Breathing Rate Over Time', y=1.02, fontsize=16)\n",
    "ax1.legend(loc='upper left')\n",
    "ax2.legend(loc='upper right')\n",
    "\n",
    "plt.show()"
   ]
  },
  {
   "cell_type": "markdown",
   "metadata": {
    "id": "2rRJJ5h1wtUO"
   },
   "source": [
    "### Using `jointplot` instead of line plots\n",
    "\n",
    "When examining the line plot above, it's evident that the patient experiences nights with both low average SpO2 levels and irregular breathing. However, if we were to investigate the correlation between SpO2 and breathing rate, it still remains ambiguous just by looking at the line plot.\n",
    "\n",
    "A nice and convenient alternative to view this correlation is to use `jointplot` from `seaborn`, which allows us to visualize the distribution of data points on both axes and assess their correlation.\n",
    "\n",
    "Furthermore, applying KMeans clustering to these data points can uncover distinct clusters, potentially revealing patterns or groups of nights with similar characteristics."
   ]
  },
  {
   "cell_type": "code",
   "execution_count": null,
   "metadata": {
    "colab": {
     "base_uri": "https://localhost:8080/",
     "height": 631
    },
    "id": "gU_tn-tSx0Bi",
    "outputId": "659ffff7-d56d-4e98-e1c1-1e4843a3bcc9"
   },
   "outputs": [],
   "source": [
    "from sklearn.cluster import KMeans\n",
    "\n",
    "# Prepare the data for clustering\n",
    "X = merged_df[['mean_spo2', 'mean_breath_rate']]\n",
    "\n",
    "# Apply KMeans clustering\n",
    "kmeans = KMeans(n_clusters=2, random_state=42, n_init=10)\n",
    "merged_df['cluster'] = kmeans.fit_predict(X)\n",
    "\n",
    "# Create the joint plot with marginal histograms\n",
    "g = sns.JointGrid(data=merged_df, x='mean_spo2', y='mean_breath_rate', hue='cluster', palette=['red', 'blue'])\n",
    "\n",
    "# Scatter plot with clusters\n",
    "g = g.plot(sns.scatterplot, sns.histplot)\n",
    "\n",
    "\n",
    "g.ax_joint.axvline(x=95, color='red', linestyle='--', linewidth=0.8, label='SpO2 Threshold (95%)')\n",
    "g.ax_joint.axhline(y=14, color='blue', linestyle='--', linewidth=0.8, label='Breathing Rate Threshold (14 bpm)')\n",
    "\n",
    "plt.suptitle('Jointplot of Average SpO2 and Breathing Rate During Sleep', y=1.02, fontsize=16)\n",
    "plt.xlabel('Mean SPO2')\n",
    "plt.ylabel('Mean breathing rate')\n",
    "g.ax_joint.legend_.remove()\n",
    "\n",
    "plt.show()"
   ]
  },
  {
   "cell_type": "markdown",
   "metadata": {
    "id": "Wma596mzzZz5"
   },
   "source": [
    "## 9.2 Breathing rates at different sleep stages\n",
    "\n",
    "We might also be interested if breathing rate changes in each stage. We can also use `seaborn` to plot histograms to visualize the distribution of breathing rates.\n",
    "\n"
   ]
  },
  {
   "cell_type": "code",
   "execution_count": null,
   "metadata": {
    "colab": {
     "base_uri": "https://localhost:8080/",
     "height": 727
    },
    "id": "z9JztSsY0wR9",
    "outputId": "fd20a8a7-5eae-46d5-c21c-f5749cd04718"
   },
   "outputs": [],
   "source": [
    "# Plotting normalized histograms\n",
    "plt.figure(figsize=(12, 8))\n",
    "\n",
    "sns.histplot(br_df['deepSleepSummary'], bins=20, kde=True, label='Deep Sleep', color='blue', stat='density')\n",
    "sns.histplot(br_df['remSleepSummary'], bins=20, kde=True, label='REM Sleep', color='green', stat='density')\n",
    "sns.histplot(br_df['lightSleepSummary'], bins=20, kde=True, label='Light Sleep', color='orange', stat='density')\n",
    "\n",
    "plt.title('Normalized Histograms of Breathing Rates for Different Sleep Stages')\n",
    "plt.xlabel('Breathing Rate')\n",
    "plt.ylabel('Density')\n",
    "plt.legend()\n",
    "plt.show()"
   ]
  },
  {
   "cell_type": "markdown",
   "metadata": {
    "id": "3s0H99UM1FOv"
   },
   "source": [
    "Let us also look into the mean and standard deviation of breathing rates for each of the sleep stages."
   ]
  },
  {
   "cell_type": "code",
   "execution_count": null,
   "metadata": {
    "colab": {
     "base_uri": "https://localhost:8080/"
    },
    "id": "YJTQGWgq1ETp",
    "outputId": "3071b987-2f18-454b-ac7a-54164b7eb6a4"
   },
   "outputs": [],
   "source": [
    "deep_sleep_mean = br_df['deepSleepSummary'].mean()\n",
    "deep_sleep_std = br_df['deepSleepSummary'].std()\n",
    "\n",
    "rem_sleep_mean = br_df['remSleepSummary'].mean()\n",
    "rem_sleep_std = br_df['remSleepSummary'].std()\n",
    "\n",
    "light_sleep_mean = br_df['lightSleepSummary'].mean()\n",
    "light_sleep_std = br_df['lightSleepSummary'].std()\n",
    "\n",
    "print(f\"Deep Sleep - Mean: {deep_sleep_mean:.2f}, Std Dev: {deep_sleep_std:.2f}\")\n",
    "print(f\"REM Sleep - Mean: {rem_sleep_mean:.2f}, Std Dev: {rem_sleep_std:.2f}\")\n",
    "print(f\"Light Sleep - Mean: {light_sleep_mean:.2f}, Std Dev: {light_sleep_std:.2f}\")"
   ]
  },
  {
   "cell_type": "markdown",
   "metadata": {
    "id": "ysQhCLAr3b82"
   },
   "source": [
    "For distributions like this one, we can use Analysis of Variance (ANOVA) to determine if the distributions are significantly distinct.\n",
    "\n",
    "### Analysis of Variance (ANOVA)\n",
    "\n",
    "Analysis of Variance (ANOVA) is a statistical method used to compare means between two or more groups. It assesses whether there are significant differences in the means of groups based on the variance observed in their measurements.\n",
    "\n",
    "ANOVA assesses the null hypothesis that all groups have the same mean. It calculates an F-statistic by dividing the variance between the groups (explained variance) by the variance within the groups (unexplained variance). If the F-statistic is large enough to reject the null hypothesis, it indicates that at least one group mean is significantly different from the others.\n",
    "\n",
    "$$F = \\frac{\\text{Between-group variability}}{\\text{Within-group variability}} $$\n",
    "\n",
    "Here, we can simly input our three distributions into the `f_oneway` function from `scipy.stats` and inspect the resulting p-value. If the p-value is less than 0.05, it indicates that there is a significant difference between sleep stages."
   ]
  },
  {
   "cell_type": "code",
   "execution_count": null,
   "metadata": {
    "colab": {
     "base_uri": "https://localhost:8080/",
     "height": 800
    },
    "id": "9RwdtAeC2A4z",
    "outputId": "3a17a7c3-0cff-4e78-8951-f7fcb41aab03"
   },
   "outputs": [],
   "source": [
    "from scipy.stats import f_oneway\n",
    "\n",
    "# Perform ANOVA\n",
    "anova_result = f_oneway(br_df['deepSleepSummary'], br_df['remSleepSummary'], br_df['lightSleepSummary'])\n",
    "\n",
    "print(f\"One-way ANOVA Results:\")\n",
    "print(f\"F-value: {anova_result.statistic}\")\n",
    "print(f\"P-value: {anova_result.pvalue}\")\n",
    "\n",
    "if anova_result.pvalue < 0.05:\n",
    "    print(\"Reject null hypothesis: There is a significant difference between sleep stages.\")\n",
    "else:\n",
    "    print(\"Fail to reject null hypothesis: There is no significant difference between sleep stages.\")\n",
    "\n",
    "# Plotting updated histograms with mean values\n",
    "plt.figure(figsize=(12, 8))\n",
    "\n",
    "sns.histplot(br_df['deepSleepSummary'], bins=20, kde=True, label='Deep Sleep', color='blue', stat='density')\n",
    "sns.histplot(br_df['remSleepSummary'], bins=20, kde=True, label='REM Sleep', color='green', stat='density')\n",
    "sns.histplot(br_df['lightSleepSummary'], bins=20, kde=True, label='Light Sleep', color='orange', stat='density')\n",
    "\n",
    "plt.title('Normalized Histograms of Breathing Rates for Different Sleep Stages')\n",
    "plt.xlabel('Breathing Rate')\n",
    "plt.ylabel('Density')\n",
    "\n",
    "# Adding vertical lines for mean values\n",
    "plt.axvline(x=deep_sleep_mean, color='blue', linestyle='--', linewidth=0.8, label=f'Deep Sleep Mean ({deep_sleep_mean:.2f})')\n",
    "plt.axvline(x=rem_sleep_mean, color='green', linestyle='--', linewidth=0.8, label=f'REM Sleep Mean ({rem_sleep_mean:.2f})')\n",
    "plt.axvline(x=light_sleep_mean, color='orange', linestyle='--', linewidth=0.8, label=f'Light Sleep Mean ({light_sleep_mean:.2f})')\n",
    "\n",
    "plt.legend()\n",
    "plt.show()"
   ]
  },
  {
   "cell_type": "markdown",
   "metadata": {
    "id": "HZbM2Pbz1OS7"
   },
   "source": [
    "The p-value is far less than 0.05, indicating that the null hypothesis that all groups have the same mean is rejected. This suggests that there is a correlation between breathing rate and sleep stage.\n",
    "\n",
    "This does make sense, since the deep sleep stage typically involves slower and more regular breathing patterns, resulting in a lower mean breathing rate with relatively low variability. Conversely, the REM sleep stage involves rapid eye movements and vivid dreaming, exhibits a higher mean breathing rate along with a slightly higher standard deviation, reflecting the intermittent nature of breathing during this stage. Lastly, light sleep, which acts as a transition between deep sleep and wakefulness, displays an intermediate mean breathing rate and standard deviation."
   ]
  },
  {
   "cell_type": "markdown",
   "metadata": {
    "id": "sYF1PxNmFkLk"
   },
   "source": [
    "Lastly, please be reminded that the data presented and any subsequent results are purely synthetic and intended only for demonstrative purposes. They do not reflect actual biological data or clinical findings. This synthetic approach is only used to illustrate data processing, visualization, and analytical techniques."
   ]
  }
 ],
 "metadata": {
  "colab": {
   "provenance": []
  },
  "kernelspec": {
   "display_name": "Python 3 (ipykernel)",
   "language": "python",
   "name": "python3"
  },
  "language_info": {
   "codemirror_mode": {
    "name": "ipython",
    "version": 3
   },
   "file_extension": ".py",
   "mimetype": "text/x-python",
   "name": "python",
   "nbconvert_exporter": "python",
   "pygments_lexer": "ipython3",
   "version": "3.12.4"
  }
 },
 "nbformat": 4,
 "nbformat_minor": 4
}
